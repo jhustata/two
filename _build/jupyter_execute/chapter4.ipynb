{
 "cells": [
  {
   "attachments": {},
   "cell_type": "markdown",
   "metadata": {},
   "source": [
    "# 4. Advanced file management\n",
    "\n",
    "Is there anything wrong with this code block?\n",
    "\n",
    "```stata\n",
    "program define myprogram\n",
    "quietly {\n",
    "forvalues i=1/10 {\n",
    "if `i' < 5 {\n",
    "noisily disp \"`i' is less than five\" }\n",
    "else {\n",
    "noisily disp \"`i' is at least five\" }\n",
    "}\n",
    "} \n",
    "end\n",
    "```\n",
    "\n",
    "![](chatgpt_indent.png)"
   ]
  },
  {
   "attachments": {},
   "cell_type": "markdown",
   "metadata": {},
   "source": [
    "General programming practices\n",
    "\n",
    "+ Indent your code \n",
    "   + or copy & paste into chatGPT, which will most certainly indent the code\n",
    "   + code is much easier to read if indented\n",
    "   + much easier to see and prevent errors\n",
    "   + easier to debug\n",
    "   + you'll find it easier to modify\n",
    "\n",
    "+ Test, test, test\n",
    "   + Iterate, iterate, iterate\n",
    "\n",
    "+ Collaborate, collaborate, collaborate\n",
    "   + Share, share, share"
   ]
  },
  {
   "attachments": {},
   "cell_type": "markdown",
   "metadata": {},
   "source": [
    "## 4.1 by \n",
    "\n",
    "Have you seen this syntax before?\n",
    "\n",
    "```stata\n",
    "gen record_no = _n //row number \n",
    "disp _N //total # rows\n",
    "```\n",
    "\n",
    "What if we want a variable of the total number of records in each ABO blood type category?\n",
    "\n",
    "```stata\n",
    "sort abo\n",
    "by abo: gen cat_n = _N\n",
    "```\n",
    "\n",
    "Which creates a variable cat_n storing the number of records in each abo category\n",
    "\n",
    "```stata\n",
    "sort abo age\n",
    "by abo: gen cat_id = _n\n",
    "```\n",
    "\n",
    "Which creates a variable `cat_id` which is 1 for the youngest patient in each category, 2 for the\n",
    "next youngest, etc.\n",
    "\n",
    "You can combine the `sort` and the `by` into `bysort` (or just `bys`)"
   ]
  },
  {
   "attachments": {},
   "cell_type": "markdown",
   "metadata": {},
   "source": [
    "## 4.2 egen  \n",
    "\n",
    "We can create a new variable equal to the mean of all records...\n",
    "\n",
    "```stata\n",
    "use transplants, clear\n",
    "sum age\n",
    "gen mean_age = r(mean)\n",
    "```\n",
    "\n",
    "...but how can we do that with just one command?\n",
    "\n",
    "```stata\n",
    "use transplants, clear \n",
    "egen mean_age = mean(age)\n",
    "```"
   ]
  },
  {
   "attachments": {},
   "cell_type": "markdown",
   "metadata": {},
   "source": [
    "More valid egen commands:\n",
    "\n",
    "```stata\n",
    "egen median_age = median(age) egen max_age = max(age)\n",
    "egen min_age = min(age)\n",
    "egen age_q1 = pctile(age), p(25) egen age_sd = sd(age)\n",
    "egen total_prev = sum(prev)\n",
    "```"
   ]
  },
  {
   "attachments": {},
   "cell_type": "markdown",
   "metadata": {},
   "source": [
    "So what's the big deal? Suppose we want the mean age, stratified by diagnosis? First, we sort on diagnosis\n",
    "\n",
    "```stata\n",
    "use transplants, clear \n",
    "sort dx\n",
    "```\n",
    "\n",
    "Now we do `by dx: egen`\n",
    "\n",
    "```stata\n",
    "by dx: egen mean_age = mean(age)\n",
    "by dx: egen min_bmi = min(bmi) \n",
    "```\n",
    "\n",
    "Or we can use `bysort`"
   ]
  },
  {
   "attachments": {},
   "cell_type": "markdown",
   "metadata": {},
   "source": [
    "More valid egen commands:\n",
    "\n",
    "```stata\n",
    "bys abo: egen m_bmi=mean(bmi)\n",
    "bys abo gender: egen max_bmi = max(bmi) \n",
    "bys abo gender: egen min_bmi = min(bmi) \n",
    "gen spread = max_bmi – min_bmi\n",
    "```"
   ]
  },
  {
   "attachments": {},
   "cell_type": "markdown",
   "metadata": {},
   "source": [
    "## 4.3 tag \n",
    "\n",
    "Supposed you've generated `spread` as per the previous slide. You want to look at it:\n",
    "\n",
    "```stata\n",
    "list abo gender spread\n",
    "```\n",
    "\n",
    "`egen = tag` will create a new variable that \"tags\" one record per abo/gender pair. This\n",
    "variable is 1 for each tagged record, and 0 for all others:\n",
    "\n",
    "```stata\n",
    "egen grouptag = tag(abo gender) \n",
    "list abo gend spread if grouptag\n",
    "```"
   ]
  },
  {
   "attachments": {},
   "cell_type": "markdown",
   "metadata": {},
   "source": [
    "```stata\n",
    "use donors_recipients, clear \n",
    "bys fake_don: gen n_tx = _N \n",
    "bys fake_don: gen tx_id = _n \n",
    "egen don_tag = tag(fake_don) \n",
    "tab n_tx if don_tag\n",
    "```\n",
    "\n",
    "1. Import dataset\n",
    "2. Total number of recipients for each donor\n",
    "3. ID for each transplant for a given donor (1 or 2)\n",
    "4. Tag one record per donor\n",
    "5. Display a table of transplants per donor\n",
    "\n",
    "tagging <u>protip</u>: `egen = tag` is very handy for graphing (which we haven't discussed yet). Many graphing commands are slow on large datasets. You can use `egen = tag` to run your graphic commands on only one record per group\n",
    "\n",
    "```stata\n",
    "use transplants, clear\n",
    "egen ethtag = tag(ethcat)\n",
    "bys ethcat: egen mean_bmi=mean(bmi) \n",
    "bys ethcat: egen mean_age=mean(age)\n",
    "```"
   ]
  },
  {
   "attachments": {},
   "cell_type": "markdown",
   "metadata": {},
   "source": [
    "## 4.4 function()"
   ]
  },
  {
   "attachments": {},
   "cell_type": "markdown",
   "metadata": {},
   "source": [
    "## 4.4.1 round() \n",
    "\n",
    "Round down to the nearest integer:\n",
    "\n",
    "```stata\n",
    "disp floor(0.3)\n",
    "disp floor(8.9)\n",
    "```\n",
    "\n",
    "Round up to the nearest integer\n",
    "\n",
    "```stata\n",
    "disp ceil(0.3)\n",
    "disp ceil(8.9)\n",
    "```\n",
    "\n",
    "Round to the nearest integer\n",
    "\n",
    "```stata\n",
    "disp round(0.3)\n",
    "disp round (8.9)\n",
    "```"
   ]
  },
  {
   "attachments": {},
   "cell_type": "markdown",
   "metadata": {},
   "source": [
    "## 4.4.2 min()\n",
    "\n",
    "```stata\n",
    "disp min(8,6,7,5,3,0,9)\n",
    "disp max(8,6,7,5,3,0,9)\n",
    "```"
   ]
  },
  {
   "attachments": {},
   "cell_type": "markdown",
   "metadata": {},
   "source": [
    "## 4.4.3 exp()\n",
    "\n",
    "Useful for transforming a variable (exponent, log, square root):\n",
    "\n",
    "```stata\n",
    "disp exp(1)\n",
    "disp ln(20)\n",
    "disp sqrt(729)\n",
    "```\n",
    "\n",
    "Other math functions:\n",
    "\n",
    "```stata\n",
    "di abs(-6) //absolute value\n",
    "disp mod(529, 10) //modulus (remainder)\n",
    "disp c(pi)\n",
    "disp sin(c(pi)/2) //sine function\n",
    "```\n"
   ]
  },
  {
   "attachments": {},
   "cell_type": "markdown",
   "metadata": {},
   "source": [
    "## 4.4.4 string()\n",
    "\n",
    "As discussed throughout this course, a string variable is data that takes the form of characters instead of numbers.\n",
    "\n",
    "```stata\n",
    "use transplants, clear\n",
    "ds, has(type string)\n",
    "```"
   ]
  },
  {
   "attachments": {},
   "cell_type": "markdown",
   "metadata": {},
   "source": [
    "```stata\n",
    "list extended_dgn in 1/5, clean\n",
    "```"
   ]
  },
  {
   "attachments": {},
   "cell_type": "markdown",
   "metadata": {},
   "source": [
    "### 4.4.4.1 word()"
   ]
  },
  {
   "attachments": {},
   "cell_type": "markdown",
   "metadata": {},
   "source": [
    "The word function isolates the first (or second, etc.) word of a string.\n",
    "\n",
    "```stata\n",
    "disp word(\"Hello, is there anybody in there?\", 4)\n",
    "```"
   ]
  },
  {
   "attachments": {},
   "cell_type": "markdown",
   "metadata": {},
   "source": [
    "```stata\n",
    "list extended_dgn if word(ext, 5) != \"\", clean noobs\n",
    "```"
   ]
  },
  {
   "attachments": {},
   "cell_type": "markdown",
   "metadata": {},
   "source": [
    "### 4.4.4.2 strlen()\n",
    "\n",
    "The strlen function counts the number of characters in a string\n",
    "\n",
    "```stata\n",
    "disp strlen(\"Same as it ever was\")\n",
    "list extended_dgn if strlen(ext)< 6, clean\n",
    "```\n"
   ]
  },
  {
   "attachments": {},
   "cell_type": "markdown",
   "metadata": {},
   "source": [
    "### 4.4.4.3 regexm()\n",
    "\n",
    "Test whether a string appears inside of another string\n",
    "\n",
    "```stata\n",
    "assert regexm(\"Earth\", \"art\")\n",
    "assert !regexm(\"team\", \"I\")\n",
    "\n",
    "tab ext if regexm(ext, \"HTN\")\n",
    "```"
   ]
  },
  {
   "attachments": {},
   "cell_type": "markdown",
   "metadata": {},
   "source": [
    "\n",
    "regexm actually searches for regular expressions. We won't go into the syntax, but you can do more powerful searches.\n",
    "\n",
    "```stata\n",
    "list ext if regexm(ext, \"^A\") //starts with A\n",
    "\n",
    "list ext if regexm(ext, \"X$\") //ends with X\n",
    "\n",
    "tab ext if regexm(ext, \"HIV.*Y\") //contains \"HIV\", then some other stuff, then Y\n",
    "\n",
    "```"
   ]
  },
  {
   "attachments": {},
   "cell_type": "markdown",
   "metadata": {},
   "source": [
    "### 4.4.5 strpos()\n",
    "\n",
    "In Stata, you can use the `strpos()` function to find the position of the first occurrence of a substring within a string. \n",
    "\n",
    "```stata\n",
    "di strpos(\"history\", \"his\")\n",
    "di strpos(\"history\", \"story\")\n",
    "di strpos(\"history\", \"story\")!=0\n",
    "\n",
    "```\n",
    "\n",
    "+ The substring \"his\" is found at the beginning of the string \"history\" and so the output is `1` \n",
    "+ The substring \"story\" starts at index 4 within the string \"history\"\n",
    "\n",
    "If you want to check whether the substring \"story\" exists within the string \"history\" using Stata, you can use the `strpos()` function and compare the result to zero. Here's an example:\n",
    "\n",
    "```stata\n",
    "if strpos(\"history\", \"story\") != 0 {\n",
    "    di \"Substring 'story' exists within the string 'history'\"\n",
    "}\n",
    "else {\n",
    "    di \"Substring 'story' does not exist within the string 'history'\"\n",
    "}\n",
    "\n",
    "```\n",
    "\n",
    "In this case, if the substring \"story\" is found within the string \"history\", the message \"Substring 'story' exists within the string 'history'\" will be displayed. Otherwise, if the substring is not found, the message \"Substring 'story' does not exist within the string 'history'\" will be displayed."
   ]
  },
  {
   "attachments": {},
   "cell_type": "markdown",
   "metadata": {},
   "source": [
    "A real-world example is given below. Investigators were interested in quantifying exposure to antihistamines amongst dialysis patients in the United States in 2014 based on their catalog that included BROMPHENIRAMINE, CARBINOXAMINE, CHLORPHENIRAMINE, CLEMASTINE, CYPROHEPTADINE, DEXBROMPHENIRAMINE, DEXCHLORPHENIRAMINE, DIMENHYDRINATE, DIPHENHYDRAMINE, DOXYLAMINE, HYDROXYZINE, MECLIZINE, PROMETHAZINE, PYRILAMINE, and TRIPROLIDINE."
   ]
  },
  {
   "attachments": {},
   "cell_type": "markdown",
   "metadata": {},
   "source": [
    "```stata\n",
    "if 0 {\n",
    "\tlog using pde2014.log, replace \n",
    "    use pde2014, clear\n",
    "    assert c(N) == 25915777\n",
    "    sample .01\n",
    "    keep usrds_id srvc_dt gnn\n",
    "    count\n",
    "    replace usrds_id=round(runiform(0,10^9))\n",
    "\t sort usrds_id\n",
    "    l in 1/10\n",
    "    label data \"strpos demo for 340.600.11\"\n",
    "    save strpos.dta, replace\n",
    "\tlog close \n",
    "}\n",
    "```\n",
    "\n",
    "```stata\n",
    "\n",
    ".     use pde2014, clear\n",
    ".     assert c(N) == 25915777\n",
    ".     sample .01\n",
    "(25,913,185 observations deleted)\n",
    ".     keep usrds_id srvc_dt gnn\n",
    ".     count\n",
    "  2,592\n",
    ".     replace usrds_id=round(runiform(0,10^9))\n",
    "(2,592 real changes made)\n",
    ".     sort usrds_id\n",
    ".     l in 1/10\n",
    "\n",
    "     +----------------------------------------------------+\n",
    "     | usrds_id   gnn                             srvc_dt |\n",
    "     |----------------------------------------------------|\n",
    "  1. |  1103808   VALGANCICLOVIR HCL            26jun2014 |\n",
    "  2. |  1604280   LEVOTHYROXINE SODIUM          13feb2014 |\n",
    "  3. |  1877804   AMOXICILLIN/POTASSIUM CLAV    22sep2014 |\n",
    "  4. |  2009860   NEEDLES, INSULIN DISPOSABLE   23jan2014 |\n",
    "  5. |  2081837   LOVASTATIN                    19nov2014 |\n",
    "     |----------------------------------------------------|\n",
    "  6. |  2909567   ATORVASTATIN CALCIUM          15jun2014 |\n",
    "  7. |  2970910   METOPROLOL TARTRATE           22may2014 |\n",
    "  8. |  3321448   FAMOTIDINE                    01aug2014 |\n",
    "  9. |  3561603   GABAPENTIN                    20dec2014 |\n",
    " 10. |  3952629   PREDNISONE                    17mar2014 |\n",
    "     +----------------------------------------------------+\n",
    ".     label data \"strpos demo for 340.600.11\"\n",
    ".     save strpos.dta, replace\n",
    "file strpos.dta saved\n",
    ".         log close \n",
    "\n",
    "```\n",
    "\n",
    "[strpos.dta](strpos.dta)\n",
    "\n",
    "```stata\n",
    "use strpos.dta, clear\n",
    "gen\tantihist16=(strpos(gnn,\"BROMPHENIRAMINE\")!=0)\n",
    "gen\tantihist19=(strpos(gnn,\"CARBINOXAMINE\")!=0)\n",
    "gen\tantihist26=(strpos(gnn,\"CHLORPHENIRAMINE\")!=0)\n",
    "gen\tantihist31=(strpos(gnn,\"CLEMASTINE\")!=0)\n",
    "gen\tantihist36=(strpos(gnn,\"CYPROHEPTADINE\")!=0)\n",
    "gen\tantihist39=(strpos(gnn,\"DEXBROMPHENIRAMINE\")!=0)\n",
    "gen\tantihist40=(strpos(gnn,\"DEXCHLORPHENIRAMINE\")!=0)\n",
    "gen\tantihist43=(strpos(gnn,\"DIMENHYDRINATE\")!=0)\n",
    "gen\tantihist47=(strpos(gnn,\"DIPHENHYDRAMINE\")!=0)\n",
    "gen\tantihist51=(strpos(gnn,\"DOXYLAMINE\")!=0)\n",
    "gen\tantihist65=(strpos(gnn,\"HYDROXYZINE\")!=0)\n",
    "gen\tantihist77=(strpos(gnn,\"MECLIZINE\")!=0)\n",
    "gen\tantihist101=(strpos(gnn,\"PROMETHAZINE\")!=0)\n",
    "gen\tantihist105=(strpos(gnn,\"PYRILAMINE\")!=0)\n",
    "gen\tantihist127=(strpos(gnn,\"TRIPROLIDINE\")!=0)      \n",
    "g antihist_rx=( ///\t\n",
    "   antihist16+\t///\n",
    "   antihist19+\t///\n",
    "   antihist26+\t///\n",
    "   antihist31+\t///\n",
    "   antihist36+\t///\n",
    "   antihist39+\t///\n",
    "   antihist40+\t///\n",
    "   antihist43+\t///\n",
    "   antihist47+\t///\n",
    "   antihist51+\t///\n",
    "   antihist65+\t///\n",
    "   antihist77+\t///\n",
    "   antihist101+\t///\n",
    "   antihist105+\t///\n",
    "   antihist127\t///\n",
    "     >0)\n",
    "keep usrds_id srvc_dt antihist_rx\n",
    "l in 100\n",
    "```\n",
    "\n",
    "```stata\n",
    ". use strpos.dta, clear\n",
    "(strpos demo for 340.600.11)\n",
    "\n",
    ". gen     antihist16=(strpos(gnn,\"BROMPHENIRAMINE\")!=0)\n",
    "\n",
    ". gen     antihist19=(strpos(gnn,\"CARBINOXAMINE\")!=0)\n",
    "\n",
    ". gen     antihist26=(strpos(gnn,\"CHLORPHENIRAMINE\")!=0)\n",
    "\n",
    ". gen     antihist31=(strpos(gnn,\"CLEMASTINE\")!=0)\n",
    "\n",
    ". gen     antihist36=(strpos(gnn,\"CYPROHEPTADINE\")!=0)\n",
    "\n",
    ". gen     antihist39=(strpos(gnn,\"DEXBROMPHENIRAMINE\")!=0)\n",
    "\n",
    ". gen     antihist40=(strpos(gnn,\"DEXCHLORPHENIRAMINE\")!=0)\n",
    "\n",
    ". gen     antihist43=(strpos(gnn,\"DIMENHYDRINATE\")!=0)\n",
    "\n",
    ". gen     antihist47=(strpos(gnn,\"DIPHENHYDRAMINE\")!=0)\n",
    "\n",
    ". gen     antihist51=(strpos(gnn,\"DOXYLAMINE\")!=0)\n",
    "\n",
    ". gen     antihist65=(strpos(gnn,\"HYDROXYZINE\")!=0)\n",
    "\n",
    ". gen     antihist77=(strpos(gnn,\"MECLIZINE\")!=0)\n",
    "\n",
    ". gen     antihist101=(strpos(gnn,\"PROMETHAZINE\")!=0)\n",
    "\n",
    ". gen     antihist105=(strpos(gnn,\"PYRILAMINE\")!=0)\n",
    "\n",
    ". gen     antihist127=(strpos(gnn,\"TRIPROLIDINE\")!=0)      \n",
    "\n",
    ". g antihist_rx=( ///     \n",
    ">    antihist16+  ///\n",
    ">    antihist19+  ///\n",
    ">    antihist26+  ///\n",
    ">    antihist31+  ///\n",
    ">    antihist36+  ///\n",
    ">    antihist39+  ///\n",
    ">    antihist40+  ///\n",
    ">    antihist43+  ///\n",
    ">    antihist47+  ///\n",
    ">    antihist51+  ///\n",
    ">    antihist65+  ///\n",
    ">    antihist77+  ///\n",
    ">    antihist101+ ///\n",
    ">    antihist105+ ///\n",
    ">    antihist127  ///\n",
    ">      >0)\n",
    "\n",
    ". keep usrds_id srvc_dt antihist_rx\n",
    "\n",
    ". tab antihist\n",
    "\n",
    "antihist_rx |      Freq.     Percent        Cum.\n",
    "------------+-----------------------------------\n",
    "          0 |      2,580       99.54       99.54\n",
    "          1 |         12        0.46      100.00\n",
    "------------+-----------------------------------\n",
    "      Total |      2,592      100.00\n",
    "\n",
    ". log close  \n",
    "```"
   ]
  },
  {
   "attachments": {},
   "cell_type": "markdown",
   "metadata": {},
   "source": [
    "### 4.4.6 dates()\n",
    "\n",
    "Remember this? How does Stata store dates\n",
    "\n",
    "```stata\n",
    "disp %3.2f exp(1)\n",
    "disp %4.1f 3.14159\n",
    "```\n"
   ]
  },
  {
   "attachments": {},
   "cell_type": "markdown",
   "metadata": {},
   "source": [
    "Stata stores dates as a special format of integer – the number of days since January 1, 1960\n",
    "\n",
    "```stata\n",
    "disp %td 19400\n",
    "disp %td 366\n",
    "disp %td -5\n",
    "\n",
    "```\n",
    "\n",
    "\"td\" = \"time, date\" (probably)\n",
    "\n",
    "Since Stata stores dates as numbers, you can do arithmetic on them.\n",
    "\n",
    "```stata\n",
    "use transplants, clear\n",
    "gen oneweek = transplant_date+7\n",
    "format %td oneweek\n",
    "list transplant_date oneweek in 1/3\n",
    "```\n",
    "\n",
    "\n"
   ]
  },
  {
   "attachments": {},
   "cell_type": "markdown",
   "metadata": {},
   "source": [
    "Converting a date to Stata %td: td()\n",
    "\n",
    "The function td() can give the number corresponding to a date written in Stata's funny default format. \n",
    "\n",
    "```stata\n",
    "disp td(04jul1976)\n",
    "disp td(26oct1985) \n",
    "```"
   ]
  },
  {
   "attachments": {},
   "cell_type": "markdown",
   "metadata": {},
   "source": [
    "The function date() can convert a string to a numerical date. It takes two strings. The first is the date to convert, and the second is a formatting string telling the order of month, date and year.\n",
    "\n",
    "\n",
    "```stata\n",
    "disp date(\"August 15, 1969\", \"MDY\")\n",
    "disp date(\"2061 28 July\", \"YDM\")\n",
    "```\n"
   ]
  },
  {
   "attachments": {},
   "cell_type": "markdown",
   "metadata": {},
   "source": [
    "Generate a date variable from a string\n",
    "\n",
    "```stata\n",
    "use donors.dta, clear\n",
    "list fake_don_id fake_don_dob\n",
    "\n",
    "gen donor_dob = date(fake_don_dob, \"DMY\")\n",
    "\n",
    "\n",
    "```"
   ]
  },
  {
   "attachments": {},
   "cell_type": "markdown",
   "metadata": {},
   "source": [
    "## 4.5 stset\n",
    "\n",
    "This portion of the lecture is designed for people who:\n",
    "+ have not done survival analyses in Stata, but\n",
    "+ know what \"survival analyses\" are\n"
   ]
  },
  {
   "attachments": {},
   "cell_type": "markdown",
   "metadata": {},
   "source": [
    "### 4.5.1 gen"
   ]
  },
  {
   "attachments": {},
   "cell_type": "markdown",
   "metadata": {},
   "source": [
    "```stata\n",
    "gen f_time = end_d-transplant_d\n",
    "```"
   ]
  },
  {
   "attachments": {},
   "cell_type": "markdown",
   "metadata": {},
   "source": [
    "### 4.5.2 stset"
   ]
  },
  {
   "attachments": {},
   "cell_type": "markdown",
   "metadata": {},
   "source": [
    "\n",
    "Before we start a survival analysis, we need to tell Stata two things about each individual: how long they were followed for and whether they had an outcome    \n",
    "\n",
    "```stata\n",
    "stset f_time, failure(died)\n",
    "```\n",
    "\n",
    "`stset` analyzes the dataset and gives output showing:    \n",
    "+ how many records were included    \n",
    "+ how many failures were observed   \n",
    "+ how many records were excluded (e.g. invalid data)         \n",
    "\n",
    "And other useful information"
   ]
  },
  {
   "attachments": {},
   "cell_type": "markdown",
   "metadata": {},
   "source": [
    "\n",
    "Instead of specifying the amount of followup time, we can specify the start and end date for each record:  \n",
    "\n",
    "```stata\n",
    "stset end_date, origin(transplant_date) failure(died)\n",
    "```\n",
    "\n",
    "We can specify a scale (e.g. to analyze time in years instead of days):\n",
    "\n",
    "```stata\n",
    "stset end_date, origin(transplant_date) failure(died) scale (365.25)\n",
    "```"
   ]
  },
  {
   "attachments": {},
   "cell_type": "markdown",
   "metadata": {},
   "source": [
    "### 4.5.3 sts "
   ]
  },
  {
   "attachments": {},
   "cell_type": "markdown",
   "metadata": {},
   "source": [
    "#### 4.5.3.1 sts graph"
   ]
  },
  {
   "attachments": {},
   "cell_type": "markdown",
   "metadata": {},
   "source": [
    "```stata\n",
    "sts graph\n",
    "graph export survival.png, replace \n",
    "```\n",
    "\n",
    "![](survival.png)\n",
    "\n",
    "Tomorrow we will learn how to make this graph more aesthetically appealing."
   ]
  },
  {
   "attachments": {},
   "cell_type": "markdown",
   "metadata": {},
   "source": [
    "```stata\n",
    "sts graph, by(don_ecd)\n",
    "graph export survival_byecd.png, replace\n",
    "```\n",
    "\n",
    "![](survival_byecd.png)"
   ]
  },
  {
   "attachments": {},
   "cell_type": "markdown",
   "metadata": {},
   "source": [
    "#### 4.5.3.2 sts list\n",
    "\n",
    "```stata\n",
    "sts list in 300/310\n",
    "```\n",
    "\n",
    "```stata\n",
    ". sts list in 300/310\n",
    "\n",
    "        Failure _d: died\n",
    "  Analysis time _t: (end_date-origin)/365.25\n",
    "            Origin: time transplant_date\n",
    "\n",
    "Kaplan–Meier survivor function\n",
    "\n",
    "             At                  Survivor      Std.\n",
    "  Time     risk   Fail   Lost    function     error     [95% conf. int.]\n",
    "------------------------------------------------------------------------\n",
    " .7724       11      0      1      1.0000         .          .         .\n",
    "  .789       10      0      1      1.0000         .          .         .\n",
    " .7895        9      0      1      1.0000         .          .         .\n",
    " .7916        8      0      1      1.0000         .          .         .\n",
    " .8002        7      1      0      0.8571    0.1323     0.3341    0.9786\n",
    " .8032        6      0      1      0.8571    0.1323     0.3341    0.9786\n",
    " .8056        5      1      0      0.6857    0.1863     0.2128    0.9121\n",
    " .8081        4      1      0      0.5143    0.2039     0.1178    0.8132\n",
    " .8092        3      0      1      0.5143    0.2039     0.1178    0.8132\n",
    " .8102        2      0      1      0.5143    0.2039     0.1178    0.8132\n",
    " .8103        1      0      1      0.5143    0.2039     0.1178    0.8132\n",
    "------------------------------------------------------------------------\n",
    "```"
   ]
  },
  {
   "attachments": {},
   "cell_type": "markdown",
   "metadata": {},
   "source": [
    "#### 4.5.3.3 sts test\n",
    "\n",
    "Rank-sum test:\n",
    "\n",
    "```stata\n",
    "sts test don_ecd sts test gender //p value\n",
    "disp 1-chi2(r(df), r(chi2))\n",
    "```"
   ]
  },
  {
   "attachments": {},
   "cell_type": "markdown",
   "metadata": {},
   "source": [
    "#### 4.5.3.4 stsum\n",
    "\n",
    "Calculate the incidence rate:\n",
    "\n",
    "```stata\n",
    "stsum\n",
    "stsum, by(don_ecd)\n",
    "```"
   ]
  },
  {
   "attachments": {},
   "cell_type": "markdown",
   "metadata": {},
   "source": [
    "#### 4.5.3.5 stcox\n",
    "\n",
    "```stata\n",
    "stcox don_ecd age\n",
    "```\n",
    "\n",
    "Obtain hazard ratios, 95% CIs, p values the same way we did for logistic regression"
   ]
  },
  {
   "attachments": {},
   "cell_type": "markdown",
   "metadata": {},
   "source": [
    "## 4.6 merge"
   ]
  },
  {
   "attachments": {},
   "cell_type": "markdown",
   "metadata": {},
   "source": [
    "Let's say we wish to assesss whether donor age is correlated with recipient age in deceased-donor transplants. How might we go about it?"
   ]
  },
  {
   "attachments": {},
   "cell_type": "markdown",
   "metadata": {},
   "source": [
    "```stata\n",
    "use transplants, clear\n",
    "lookfor age\n",
    "```\n",
    "\n",
    "```stata\n",
    ". lookfor age\n",
    "\n",
    "Variable      Storage\tDisplay\tValue\n",
    "name         type\tformat\tlabel\tVariable label\n",
    "\t\t\t\t\n",
    "age             byte\t%12.0g\t\tAge at TX\n",
    "\n",
    ". \n",
    "end of do-file\n",
    "\n",
    ". \n",
    "\n",
    "```\n",
    "\n",
    "We only have the recipients age. So we'll have to look elsewhere for the donor age:\n",
    "\n",
    "```stata\n",
    "use donors, clear\n",
    "lookfor age\n",
    "```\n",
    "\n",
    "```stata\n",
    ". use donors,\tclear\n",
    "\n",
    ". lookfor age\n",
    "\n",
    "Variable\tStorage\tDisplay\tValue\n",
    "name\ttype\tformat\tlabel\tVariable\tlabel\n",
    "\t\t\t\t\t\t\n",
    "age_don\tfloat\t%9.0g\t\t     \n",
    "\n",
    ". \n",
    "\n",
    "```\n",
    "\n",
    "`donors.dta` has donor age, but not recipient age."
   ]
  },
  {
   "attachments": {},
   "cell_type": "markdown",
   "metadata": {},
   "source": [
    "```stata\n",
    "use donors_recipients, clear\n",
    "list in 1/10\n",
    "```\n",
    "\n",
    "```stata\n",
    ". use donors_recipients, clear\n",
    "\n",
    ". list in 1/10\n",
    "\n",
    "     +--------------------+\n",
    "     | fake_id   fake_d~d |\n",
    "     |--------------------|\n",
    "  1. |       1       4999 |\n",
    "  2. |       2       4998 |\n",
    "  3. |       3       4997 |\n",
    "  4. |       4       4996 |\n",
    "  5. |       5       4995 |\n",
    "     |--------------------|\n",
    "  6. |       6       4994 |\n",
    "  7. |       7       4993 |\n",
    "  8. |       8       4992 |\n",
    "  9. |       9       4991 |\n",
    " 10. |      10       4990 |\n",
    "     +--------------------+\n",
    "\n",
    "```\n",
    "\n",
    "`donors_recipients.dta` has neither age, but it has fake_id (corresponding to recipients) and fake_don_id (corresponding to donors). Solution?\n",
    "\n",
    "```stata\n",
    "use transplants, clear merge 1:1 fake_id ///\n",
    "    using donors_recipients\n",
    "```\n",
    "\n",
    "```stata\n",
    ". use transplants, clear \n",
    "\n",
    ". merge 1:1 fake_id ///\n",
    ">     using donors_recipients\n",
    "\n",
    "    Result                      Number of obs\n",
    "    -----------------------------------------\n",
    "    Not matched                         3,000\n",
    "        from master                         0  (_merge==1)\n",
    "        from using                      3,000  (_merge==2)\n",
    "\n",
    "    Matched                             2,000  (_merge==3)\n",
    "    -----------------------------------------\n",
    "```\n",
    "\n",
    "+ We expect each fake_id to appear only once in each dataset (\"one-to-one merge\")\n",
    "+ fake_id is the variable that appears in both datasets, letting us link them\n",
    "+ donors_recipients is the dataset that we're merging with the dataset in memory"
   ]
  },
  {
   "attachments": {},
   "cell_type": "markdown",
   "metadata": {},
   "source": [
    "+ Zero records appeared only in the \"master\" dataset (in memory before the merge command)\n",
    "+ 3000 records appeared only in the \"using\" dataset (donors_recipients.dta)\n",
    "+ 2000 records appeared in both datasets\n",
    "+ Stata created a variable called _merge telling us whether each record was master-only, using-only, or both (matched)"
   ]
  },
  {
   "attachments": {},
   "cell_type": "markdown",
   "metadata": {},
   "source": [
    "```stata\n",
    "tab _merge \n",
    "```"
   ]
  },
  {
   "attachments": {},
   "cell_type": "markdown",
   "metadata": {},
   "source": [
    "Let's try some fancier syntax:\n",
    "\n",
    "```stata\n",
    "use transplants, clear \n",
    "merge 1:1 fake_id using donors_recipients, keep(match)\n",
    "```\n",
    "\n",
    "Only records that appear in both datasets will remain in memory"
   ]
  },
  {
   "attachments": {},
   "cell_type": "markdown",
   "metadata": {},
   "source": [
    "\n",
    "```stata\n",
    "use transplants, clear \n",
    "merge 1:1 fake_id using donors_recipients, keep(master match)\n",
    "```\n",
    "\n",
    "Only records that appear in the master dataset only, or in both datasets, will remain in memory\n"
   ]
  },
  {
   "attachments": {},
   "cell_type": "markdown",
   "metadata": {},
   "source": [
    "```stata\n",
    "use transplants, clear \n",
    "merge 1:1 fake_id using donors_recipients,   gen(mergevar)\n",
    "```\n",
    "\n",
    "Instead of creating a variable called _merge, call it mergevar"
   ]
  },
  {
   "attachments": {},
   "cell_type": "markdown",
   "metadata": {},
   "source": [
    "```stata\n",
    "use transplants, clear \n",
    "merge 1:1 fake_id using donors_recipients,   nogen\n",
    "```\n",
    "\n",
    "Don't create any new variables, **NOTE:** if the `_merge` variable already exists, the _merge command will give an error unless you use gen() or nogen"
   ]
  },
  {
   "attachments": {},
   "cell_type": "markdown",
   "metadata": {},
   "source": [
    "Two merges in a row: \n",
    "\n",
    "```stata\n",
    "use transplants, clear merge 1:1 fake_id ///\n",
    "    using donors_recipients, ///\n",
    "    keep(match) nogen\n",
    "merge m:1 fake_don_id ///\n",
    " using donors, keep(match) nogen ///\n",
    "    keepusing(age_don)\n",
    "```\n",
    "\n",
    "Don't load all variables from the new (using) dataset. Just load age_don"
   ]
  },
  {
   "attachments": {},
   "cell_type": "markdown",
   "metadata": {},
   "source": [
    "```stata\n",
    "corr age*\n",
    "```\n",
    "\n",
    "In our dataset, fake recipient age and fake donor age *** *** correlated."
   ]
  },
  {
   "attachments": {},
   "cell_type": "markdown",
   "metadata": {},
   "source": [
    "\n",
    "Merging protip: using merge, keep(match) might drop more records than you expect. If you think all\n",
    "records will match, it's a good idea to check this assumption\n",
    "\n",
    "```stata\n",
    "use transplants, clear merge 1:1 fake_id using donors_recipients, ///\n",
    "     keep(master match)\n",
    "assert _merge==3\n",
    "```"
   ]
  },
  {
   "attachments": {},
   "cell_type": "markdown",
   "metadata": {},
   "source": [
    "Maybe you don't expect a perfect match, but you want to make sure nearly all of your records match use transplants, clear\n",
    "\n",
    "```stata\n",
    "merge 1:1 fake_id using donors_recipients, keep(master match)\n",
    "quietly count if _merge == 3\n",
    "assert r(N)/_N > 0.99 //99% of records have _merge==3\n",
    "```"
   ]
  },
  {
   "attachments": {},
   "cell_type": "markdown",
   "metadata": {},
   "source": [
    "That's enough in way of an introduction to the `merge` command. It will come in handy only in specific projects that have relevant variables in different datasets."
   ]
  }
 ],
 "metadata": {
  "kernelspec": {
   "display_name": "Python 3",
   "language": "python",
   "name": "python3"
  },
  "language_info": {
   "codemirror_mode": {
    "name": "ipython",
    "version": 3
   },
   "file_extension": ".py",
   "mimetype": "text/x-python",
   "name": "python",
   "nbconvert_exporter": "python",
   "pygments_lexer": "ipython3",
   "version": "3.11.2"
  },
  "widgets": {
   "application/vnd.jupyter.widget-state+json": {
    "state": {},
    "version_major": 2,
    "version_minor": 0
   }
  }
 },
 "nbformat": 4,
 "nbformat_minor": 4
}