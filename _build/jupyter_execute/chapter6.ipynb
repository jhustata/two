{
 "cells": [
  {
   "attachments": {},
   "cell_type": "markdown",
   "metadata": {},
   "source": [
    "# 6. Review of Weeks 1-5\n",
    "\n",
    "## Coming..."
   ]
  },
  {
   "cell_type": "markdown",
   "metadata": {},
   "source": [
    "Let's revisit the first graph we produce in week one, but with a twist:\n",
    "\n",
    "```stata\n",
    "// Load the life expectancy dataset\n",
    "webuse lifeexp, clear\n",
    "\n",
    "// Encode the 'country' variable into a numeric variable with a new name 'Country'\n",
    "encode country, gen(Country)\n",
    "\n",
    "// Summarize the 'lexp' variable (life expectancy), capturing the mean\n",
    "sum lexp, detail\n",
    "local meanlife = r(mean)\n",
    "\n",
    "// Create a scatter plot of life expectancy by the encoded 'Country' variable, with customizations\n",
    "twoway (scatter lexp Country, mlabel(country)) ///\n",
    "       (line lexp Country, sort) ///\n",
    "       , legend(off) ytitle(\"Life Expectancy\") xtitle(\"Countries\") ///\n",
    "       yline(`meanlife') text(`meanlife' `= _N/2' \"Mean: `meanlife'\", place(east) color(black))\n",
    "\n",
    "// Export the graph as a PNG file, replacing any existing file with the same name\n",
    "graph export lexp_bycountry.png, replace\n",
    "```\n",
    "\n",
    "This script includes:\n",
    "- A summarization of `lexp` to calculate the mean life expectancy, which is then stored in a local macro for use in annotations.\n",
    "- A scatter plot of life expectancy by country, with an additional line indicating the mean life expectancy across the dataset.\n",
    "- Text annotation on the graph to display the mean life expectancy, positioned dynamically.\n",
    "- An export command to save the graph as a PNG file.\n",
    "\n",
    "This version refines the plotting to make the representation of data clearer and more informative, including dynamic placement for the mean life expectancy annotation. Feel free to adjust the specifics of the plotting commands (`mlabel`, `text`, `place`, etc.) to better suit your preferences and the characteristics of your dataset.\n",
    "\n",
    "![](lexp_bycountry_review.png)\n",
    "\n",
    "How may we edit our code to make this graph more meaningful?"
   ]
  }
 ],
 "metadata": {
  "kernelspec": {
   "display_name": "Python 3",
   "language": "python",
   "name": "python3"
  },
  "language_info": {
   "codemirror_mode": {
    "name": "ipython",
    "version": 3
   },
   "file_extension": ".py",
   "mimetype": "text/x-python",
   "name": "python",
   "nbconvert_exporter": "python",
   "pygments_lexer": "ipython3",
   "version": "3.11.2"
  },
  "widgets": {
   "application/vnd.jupyter.widget-state+json": {
    "state": {},
    "version_major": 2,
    "version_minor": 0
   }
  }
 },
 "nbformat": 4,
 "nbformat_minor": 4
}